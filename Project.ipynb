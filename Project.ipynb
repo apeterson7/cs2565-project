{
 "cells": [
  {
   "cell_type": "code",
   "execution_count": 62,
   "id": "5c11bf9d-4481-4adc-9057-626084c155f2",
   "metadata": {},
   "outputs": [],
   "source": [
    "!pip install -q pandas kagglehub numpy scipy matplotlib scikit-learn ipykernel jupyter pytest nltk "
   ]
  },
  {
   "cell_type": "code",
   "execution_count": 45,
   "id": "1294350c-4b02-4e72-bb87-22daadbf9e4e",
   "metadata": {},
   "outputs": [],
   "source": [
    "import kagglehub\n",
    "import pandas as pd\n",
    "import os"
   ]
  },
  {
   "cell_type": "code",
   "execution_count": 53,
   "id": "4e398ec2-a347-4829-a3f5-a953d8bfe7e8",
   "metadata": {},
   "outputs": [],
   "source": [
    "# Download latest version\n",
    "path = kagglehub.dataset_download(\"arshkon/linkedin-job-postings\")\n",
    "df = pd.read_csv(os.path.join(path,\"postings.csv\"))"
   ]
  },
  {
   "cell_type": "markdown",
   "id": "d7baabe5-c1df-47cc-8987-0717b24e5ab7",
   "metadata": {},
   "source": [
    "### EDA"
   ]
  },
  {
   "cell_type": "code",
   "execution_count": 51,
   "id": "f49d8611-de29-432c-9778-86c09abffd7d",
   "metadata": {},
   "outputs": [
    {
     "data": {
      "text/plain": [
       "(123849, 31)"
      ]
     },
     "execution_count": 51,
     "metadata": {},
     "output_type": "execute_result"
    }
   ],
   "source": [
    "df.shape"
   ]
  },
  {
   "cell_type": "code",
   "execution_count": 52,
   "id": "a5ea84d5-dd5e-427a-912d-b72e769fc031",
   "metadata": {},
   "outputs": [
    {
     "data": {
      "text/plain": [
       "location\n",
       "United States    8125\n",
       "New York, NY     2756\n",
       "Chicago, IL      1834\n",
       "Houston, TX      1762\n",
       "Dallas, TX       1383\n",
       "Name: count, dtype: int64"
      ]
     },
     "execution_count": 52,
     "metadata": {},
     "output_type": "execute_result"
    }
   ],
   "source": [
    "df[\"location\"].value_counts().head()"
   ]
  },
  {
   "cell_type": "code",
   "execution_count": 35,
   "id": "089a5ef8-420b-4ac6-b351-d59281813e5d",
   "metadata": {},
   "outputs": [],
   "source": [
    "yearly_df = df[df[\"pay_period\"] == \"YEARLY\"].shape"
   ]
  },
  {
   "cell_type": "code",
   "execution_count": 107,
   "id": "0505c110-2305-44ec-9aee-efe0d8bf95f4",
   "metadata": {},
   "outputs": [],
   "source": [
    "ny_df = df[df[\"location\"] == \"New York, NY\"].reset_index()"
   ]
  },
  {
   "cell_type": "code",
   "execution_count": 37,
   "id": "ace23c49-358c-4e35-83a3-ca4fb640e860",
   "metadata": {},
   "outputs": [
    {
     "data": {
      "text/plain": [
       "pay_period\n",
       "YEARLY     1201\n",
       "HOURLY      307\n",
       "MONTHLY       2\n",
       "WEEKLY        2\n",
       "Name: count, dtype: int64"
      ]
     },
     "execution_count": 37,
     "metadata": {},
     "output_type": "execute_result"
    }
   ],
   "source": [
    "ny_df[\"pay_period\"].value_counts().head()"
   ]
  },
  {
   "cell_type": "code",
   "execution_count": 108,
   "id": "7ef5e5bc-6424-48e8-911b-ffc8dc61bcf0",
   "metadata": {},
   "outputs": [
    {
     "data": {
      "text/plain": [
       "(2756, 32)"
      ]
     },
     "execution_count": 108,
     "metadata": {},
     "output_type": "execute_result"
    }
   ],
   "source": [
    "ny_df.shape"
   ]
  },
  {
   "cell_type": "code",
   "execution_count": 109,
   "id": "a21cfed4-fada-47bb-ae93-02245e368179",
   "metadata": {},
   "outputs": [],
   "source": [
    "us_df = df[df[\"location\"] == \"United States\"]"
   ]
  },
  {
   "cell_type": "code",
   "execution_count": 110,
   "id": "5a2340bd-1935-4be6-8b26-4237d4a90734",
   "metadata": {},
   "outputs": [
    {
     "data": {
      "text/plain": [
       "(8125, 31)"
      ]
     },
     "execution_count": 110,
     "metadata": {},
     "output_type": "execute_result"
    }
   ],
   "source": [
    "us_df.shape"
   ]
  },
  {
   "cell_type": "markdown",
   "id": "90f566f6-05f2-40d4-8dea-7f2fc97fa731",
   "metadata": {},
   "source": [
    "### Cleaning"
   ]
  },
  {
   "cell_type": "code",
   "execution_count": 93,
   "id": "9855d07c-8f3e-4c59-b16e-9e055914b753",
   "metadata": {},
   "outputs": [
    {
     "data": {
      "text/plain": [
       "['max_salary', 'med_salary', 'min_salary', 'normalized_salary']"
      ]
     },
     "execution_count": 93,
     "metadata": {},
     "output_type": "execute_result"
    }
   ],
   "source": [
    "[c for c in ny_df.columns if \"salary\" in c]"
   ]
  },
  {
   "cell_type": "code",
   "execution_count": 99,
   "id": "d8d5b4cf-753f-40ff-82e1-94e3619b75c3",
   "metadata": {},
   "outputs": [
    {
     "data": {
      "text/plain": [
       "(1371, 32)"
      ]
     },
     "execution_count": 99,
     "metadata": {},
     "output_type": "execute_result"
    }
   ],
   "source": [
    "ny_df[ny_df[\"max_salary\"].notna()].shape"
   ]
  },
  {
   "cell_type": "code",
   "execution_count": 100,
   "id": "ef03f5f2-d619-4ac0-8c58-e63f14ba5ca3",
   "metadata": {},
   "outputs": [
    {
     "data": {
      "text/plain": [
       "(1371, 32)"
      ]
     },
     "execution_count": 100,
     "metadata": {},
     "output_type": "execute_result"
    }
   ],
   "source": [
    "ny_df[ny_df[\"min_salary\"].notna()].shape"
   ]
  },
  {
   "cell_type": "code",
   "execution_count": 101,
   "id": "9a11f492-0f07-4a17-be4a-9b1070ca5b41",
   "metadata": {},
   "outputs": [
    {
     "data": {
      "text/plain": [
       "(141, 32)"
      ]
     },
     "execution_count": 101,
     "metadata": {},
     "output_type": "execute_result"
    }
   ],
   "source": [
    "ny_df[ny_df[\"med_salary\"].notna()].shape"
   ]
  },
  {
   "cell_type": "code",
   "execution_count": 103,
   "id": "ac0fbc3d-a5d7-4d6e-b937-3c0296201d90",
   "metadata": {},
   "outputs": [
    {
     "data": {
      "text/plain": [
       "(1371, 32)"
      ]
     },
     "execution_count": 103,
     "metadata": {},
     "output_type": "execute_result"
    }
   ],
   "source": [
    "ny_df[ny_df[\"max_salary\"].notna() & ny_df[\"min_salary\"].notna()].shape"
   ]
  },
  {
   "cell_type": "markdown",
   "id": "f7064a46-1376-49d9-8078-8910d16fbf7b",
   "metadata": {},
   "source": [
    "#### Drop NaN values and non USD"
   ]
  },
  {
   "cell_type": "code",
   "execution_count": 194,
   "id": "19c7858c-3c8d-42ae-9230-e4ed0865b497",
   "metadata": {},
   "outputs": [],
   "source": [
    "salary_df = df[df[\"max_salary\"].notna() & df[\"min_salary\"].notna()]"
   ]
  },
  {
   "cell_type": "code",
   "execution_count": 114,
   "id": "3c49a5a2-10f6-4e61-a126-e755ef2d9dc0",
   "metadata": {},
   "outputs": [],
   "source": [
    "salary_ny_df = ny_df[ny_df[\"max_salary\"].notna() & ny_df[\"min_salary\"].notna()]"
   ]
  },
  {
   "cell_type": "markdown",
   "id": "b369b930-e272-4fff-ab09-728a8bee2b2e",
   "metadata": {},
   "source": [
    "#### Annualize Salary"
   ]
  },
  {
   "cell_type": "code",
   "execution_count": 195,
   "id": "82d35004-5f93-4827-a1e5-d0aa22ca0457",
   "metadata": {},
   "outputs": [
    {
     "data": {
      "text/plain": [
       "pay_period\n",
       "YEARLY      19107\n",
       "HOURLY      10212\n",
       "MONTHLY       288\n",
       "WEEKLY        177\n",
       "BIWEEKLY        9\n",
       "Name: count, dtype: int64"
      ]
     },
     "execution_count": 195,
     "metadata": {},
     "output_type": "execute_result"
    }
   ],
   "source": [
    "salary_df[\"pay_period\"].value_counts()"
   ]
  },
  {
   "cell_type": "code",
   "execution_count": 174,
   "id": "33e546fd-0f83-48cd-a5dc-3b910ab53d3b",
   "metadata": {},
   "outputs": [
    {
     "data": {
      "text/plain": [
       "count    2.979300e+04\n",
       "mean     9.193942e+04\n",
       "std      7.011101e+05\n",
       "min      1.000000e+00\n",
       "25%      4.828000e+01\n",
       "50%      8.000000e+04\n",
       "75%      1.400000e+05\n",
       "max      1.200000e+08\n",
       "Name: max_salary, dtype: float64"
      ]
     },
     "execution_count": 174,
     "metadata": {},
     "output_type": "execute_result"
    }
   ],
   "source": [
    "salary_df[\"max_salary\"].describe()"
   ]
  },
  {
   "cell_type": "code",
   "execution_count": 196,
   "id": "2a144093-3787-4dc2-a02f-a1cf9c9fcaf3",
   "metadata": {},
   "outputs": [],
   "source": [
    "salary_scale = {\n",
    "    \"HOURLY\": 2080,\n",
    "    \"WEEKLY\": 52,\n",
    "    \"BIWEEKLY\": 26,\n",
    "    \"MONTHLY\":12\n",
    "}\n",
    "for period, scale in salary_scale.items():\n",
    "    salary_df.loc[salary_df['pay_period'] == period, 'max_salary'] *= scale\n",
    "    salary_df.loc[salary_df['pay_period'] == period, 'min_salary'] *= scale\n",
    "    salary_df.loc[salary_df['pay_period'] == period, 'pay_period'] = \"YEARLY\""
   ]
  },
  {
   "cell_type": "code",
   "execution_count": 180,
   "id": "9d443f5f-cf08-49df-9780-7215b68555c4",
   "metadata": {},
   "outputs": [
    {
     "data": {
      "text/plain": [
       "count    2.979300e+04\n",
       "mean     2.639483e+05\n",
       "std      6.096351e+06\n",
       "min      1.000000e+00\n",
       "25%      6.572800e+04\n",
       "50%      1.010000e+05\n",
       "75%      1.500000e+05\n",
       "max      5.720000e+08\n",
       "Name: max_salary, dtype: float64"
      ]
     },
     "execution_count": 180,
     "metadata": {},
     "output_type": "execute_result"
    }
   ],
   "source": [
    "salary_df[\"max_salary\"].describe()"
   ]
  },
  {
   "cell_type": "code",
   "execution_count": 181,
   "id": "27acc894-e437-4c53-81b0-8b5c43861ae1",
   "metadata": {},
   "outputs": [
    {
     "data": {
      "text/plain": [
       "pay_period\n",
       "YEARLY    29793\n",
       "Name: count, dtype: int64"
      ]
     },
     "execution_count": 181,
     "metadata": {},
     "output_type": "execute_result"
    }
   ],
   "source": [
    "salary_df[\"pay_period\"].value_counts()"
   ]
  },
  {
   "cell_type": "code",
   "execution_count": 200,
   "id": "170a6b3b-aeb8-4185-b0d1-c7687c7eccf4",
   "metadata": {},
   "outputs": [],
   "source": [
    "salary_df = salary_df[salary_df[\"currency\"] == 'USD']"
   ]
  },
  {
   "cell_type": "code",
   "execution_count": 205,
   "id": "5424719c-1f62-4a1f-9b60-440fb20b448d",
   "metadata": {},
   "outputs": [],
   "source": [
    "salary_df = salary_df[[\"description\",\"max_salary\",\"min_salary\"]]"
   ]
  },
  {
   "cell_type": "code",
   "execution_count": 206,
   "id": "4444969b-b033-42be-a3ad-737827e11a73",
   "metadata": {},
   "outputs": [
    {
     "data": {
      "text/html": [
       "<div>\n",
       "<style scoped>\n",
       "    .dataframe tbody tr th:only-of-type {\n",
       "        vertical-align: middle;\n",
       "    }\n",
       "\n",
       "    .dataframe tbody tr th {\n",
       "        vertical-align: top;\n",
       "    }\n",
       "\n",
       "    .dataframe thead th {\n",
       "        text-align: right;\n",
       "    }\n",
       "</style>\n",
       "<table border=\"1\" class=\"dataframe\">\n",
       "  <thead>\n",
       "    <tr style=\"text-align: right;\">\n",
       "      <th></th>\n",
       "      <th>description</th>\n",
       "      <th>max_salary</th>\n",
       "      <th>min_salary</th>\n",
       "    </tr>\n",
       "  </thead>\n",
       "  <tbody>\n",
       "    <tr>\n",
       "      <th>0</th>\n",
       "      <td>Job descriptionA leading real estate firm in N...</td>\n",
       "      <td>41600.0</td>\n",
       "      <td>35360.0</td>\n",
       "    </tr>\n",
       "    <tr>\n",
       "      <th>1</th>\n",
       "      <td>At Aspen Therapy and Wellness , we are committ...</td>\n",
       "      <td>104000.0</td>\n",
       "      <td>62400.0</td>\n",
       "    </tr>\n",
       "    <tr>\n",
       "      <th>2</th>\n",
       "      <td>The National Exemplar is accepting application...</td>\n",
       "      <td>65000.0</td>\n",
       "      <td>45000.0</td>\n",
       "    </tr>\n",
       "    <tr>\n",
       "      <th>3</th>\n",
       "      <td>Senior Associate Attorney - Elder Law / Trusts...</td>\n",
       "      <td>175000.0</td>\n",
       "      <td>140000.0</td>\n",
       "    </tr>\n",
       "    <tr>\n",
       "      <th>4</th>\n",
       "      <td>Looking for HVAC service tech with experience ...</td>\n",
       "      <td>80000.0</td>\n",
       "      <td>60000.0</td>\n",
       "    </tr>\n",
       "    <tr>\n",
       "      <th>...</th>\n",
       "      <td>...</td>\n",
       "      <td>...</td>\n",
       "      <td>...</td>\n",
       "    </tr>\n",
       "    <tr>\n",
       "      <th>123837</th>\n",
       "      <td>Position: Clinical Contracts Analyst, Req#: 63...</td>\n",
       "      <td>93600.0</td>\n",
       "      <td>72800.0</td>\n",
       "    </tr>\n",
       "    <tr>\n",
       "      <th>123839</th>\n",
       "      <td>This role handles all the onsite catering and ...</td>\n",
       "      <td>65000.0</td>\n",
       "      <td>50000.0</td>\n",
       "    </tr>\n",
       "    <tr>\n",
       "      <th>123843</th>\n",
       "      <td>Position: Quality Engineer I (Complaint Invest...</td>\n",
       "      <td>104000.0</td>\n",
       "      <td>62400.0</td>\n",
       "    </tr>\n",
       "    <tr>\n",
       "      <th>123844</th>\n",
       "      <td>Our Walnut Creek office is currently seeking a...</td>\n",
       "      <td>195000.0</td>\n",
       "      <td>120000.0</td>\n",
       "    </tr>\n",
       "    <tr>\n",
       "      <th>123848</th>\n",
       "      <td>Marketing Social Media Specialist - $70k – $75...</td>\n",
       "      <td>75000.0</td>\n",
       "      <td>70000.0</td>\n",
       "    </tr>\n",
       "  </tbody>\n",
       "</table>\n",
       "<p>29778 rows × 3 columns</p>\n",
       "</div>"
      ],
      "text/plain": [
       "                                              description  max_salary  \\\n",
       "0       Job descriptionA leading real estate firm in N...     41600.0   \n",
       "1       At Aspen Therapy and Wellness , we are committ...    104000.0   \n",
       "2       The National Exemplar is accepting application...     65000.0   \n",
       "3       Senior Associate Attorney - Elder Law / Trusts...    175000.0   \n",
       "4       Looking for HVAC service tech with experience ...     80000.0   \n",
       "...                                                   ...         ...   \n",
       "123837  Position: Clinical Contracts Analyst, Req#: 63...     93600.0   \n",
       "123839  This role handles all the onsite catering and ...     65000.0   \n",
       "123843  Position: Quality Engineer I (Complaint Invest...    104000.0   \n",
       "123844  Our Walnut Creek office is currently seeking a...    195000.0   \n",
       "123848  Marketing Social Media Specialist - $70k – $75...     75000.0   \n",
       "\n",
       "        min_salary  \n",
       "0          35360.0  \n",
       "1          62400.0  \n",
       "2          45000.0  \n",
       "3         140000.0  \n",
       "4          60000.0  \n",
       "...            ...  \n",
       "123837     72800.0  \n",
       "123839     50000.0  \n",
       "123843     62400.0  \n",
       "123844    120000.0  \n",
       "123848     70000.0  \n",
       "\n",
       "[29778 rows x 3 columns]"
      ]
     },
     "execution_count": 206,
     "metadata": {},
     "output_type": "execute_result"
    }
   ],
   "source": [
    "salary_df"
   ]
  },
  {
   "cell_type": "markdown",
   "id": "42708e38-4c36-4fb4-964d-81ae0ddbe6c5",
   "metadata": {},
   "source": [
    "### Features"
   ]
  },
  {
   "cell_type": "code",
   "execution_count": 69,
   "id": "44ba9bdb-8ceb-4237-8b57-1fcdbe562e19",
   "metadata": {},
   "outputs": [
    {
     "name": "stderr",
     "output_type": "stream",
     "text": [
      "[nltk_data] Downloading package punkt_tab to\n",
      "[nltk_data]     /Users/alexanderpeterson/nltk_data...\n",
      "[nltk_data]   Unzipping tokenizers/punkt_tab.zip.\n"
     ]
    },
    {
     "data": {
      "text/plain": [
       "True"
      ]
     },
     "execution_count": 69,
     "metadata": {},
     "output_type": "execute_result"
    }
   ],
   "source": [
    "import nltk \n",
    "import re \n",
    "nltk.download('punkt_tab')"
   ]
  },
  {
   "cell_type": "code",
   "execution_count": 207,
   "id": "d1d7d237-92a3-4f1c-bff4-beac30cbe504",
   "metadata": {},
   "outputs": [
    {
     "data": {
      "text/plain": [
       "'The National Exemplar is accepting applications for an Assistant Restaurant Manager.\\nWe offer highly competitive wages, healthcare, paid time off, complimentary dining privileges and bonus opportunities. \\nWe are a serious, professional, long-standing neighborhood restaurant with over 41 years of service. If you are looking for a long-term fit with a best in class organization then you should apply now. \\nPlease send a resumes to pardom@nationalexemplar.com. o'"
      ]
     },
     "execution_count": 207,
     "metadata": {},
     "output_type": "execute_result"
    }
   ],
   "source": [
    "description = salary_df[\"description\"][2]\n",
    "description"
   ]
  },
  {
   "cell_type": "code",
   "execution_count": 216,
   "id": "04990510-e945-4bd7-af6c-1357b042b32f",
   "metadata": {},
   "outputs": [],
   "source": [
    "from typing import Dict\n",
    "\n",
    "def tokenize(text) -> Dict[str, int]:\n",
    "    dataset = nltk.sent_tokenize(text) \n",
    "    for i in range(len(dataset)): \n",
    "        dataset[i] = dataset[i].lower() \n",
    "        dataset[i] = re.sub(r'\\W', ' ', dataset[i]) \n",
    "        dataset[i] = re.sub(r'\\s+', ' ', dataset[i]) \n",
    "    word2count = {} \n",
    "    for data in dataset: \n",
    "        words = nltk.word_tokenize(data) \n",
    "        for word in words: \n",
    "            if word not in word2count.keys(): \n",
    "                word2count[word] = 1\n",
    "            else: \n",
    "                word2count[word] += 1\n",
    "    return word2count\n",
    "\n",
    "# tokenize(description)"
   ]
  },
  {
   "cell_type": "code",
   "execution_count": 233,
   "id": "bd06415f-8748-49c5-a713-aaef41dec77c",
   "metadata": {},
   "outputs": [],
   "source": [
    "from collections import Counter\n",
    "import heapq \n",
    "\n",
    "# Get Counts across entire dataset\n",
    "word2count = Counter({})\n",
    "for description in salary_df[\"description\"][0:5]:\n",
    "    word2count.update(tokenize(description))"
   ]
  },
  {
   "cell_type": "code",
   "execution_count": 235,
   "id": "f882eb4a-58c5-4cbb-b513-0a573c56df4d",
   "metadata": {},
   "outputs": [
    {
     "name": "stderr",
     "output_type": "stream",
     "text": [
      "[nltk_data] Downloading package stopwords to\n",
      "[nltk_data]     /Users/alexanderpeterson/nltk_data...\n",
      "[nltk_data]   Package stopwords is already up-to-date!\n"
     ]
    }
   ],
   "source": [
    "from nltk.corpus import stopwords\n",
    "nltk.download('stopwords')\n",
    "for word in stopwords.words('english'):\n",
    "    del word2count[word]"
   ]
  },
  {
   "cell_type": "code",
   "execution_count": 241,
   "id": "74313376-98ce-48bc-b194-240c3b2186de",
   "metadata": {},
   "outputs": [
    {
     "data": {
      "text/plain": [
       "Counter({'team': 10,\n",
       "         'work': 10,\n",
       "         'estate': 8,\n",
       "         'marketing': 8,\n",
       "         'time': 6,\n",
       "         'person': 5,\n",
       "         'planning': 5,\n",
       "         'quality': 5,\n",
       "         'practice': 5,\n",
       "         'law': 5,\n",
       "         'job': 4,\n",
       "         'new': 4,\n",
       "         'experience': 4,\n",
       "         'design': 4,\n",
       "         'working': 4,\n",
       "         'please': 4,\n",
       "         'environment': 4,\n",
       "         'agents': 4,\n",
       "         'skills': 4,\n",
       "         'social': 4,\n",
       "         'committed': 4,\n",
       "         'full': 4,\n",
       "         'wellness': 4,\n",
       "         'looking': 4,\n",
       "         'professional': 4,\n",
       "         'treatment': 4,\n",
       "         'services': 4,\n",
       "         'service': 4,\n",
       "         'firm': 3,\n",
       "         'communicate': 3,\n",
       "         'receive': 3,\n",
       "         'requests': 3,\n",
       "         'gender': 3,\n",
       "         'paid': 3,\n",
       "         'preferred': 3,\n",
       "         'years': 3,\n",
       "         'therapy': 3,\n",
       "         'clients': 3,\n",
       "         'life': 3,\n",
       "         'supervision': 3,\n",
       "         'mental': 3,\n",
       "         'communication': 3,\n",
       "         'health': 3,\n",
       "         'attorney': 3,\n",
       "         'trusts': 3,\n",
       "         'administration': 3,\n",
       "         'real': 2,\n",
       "         'seeking': 2,\n",
       "         'graphic': 2,\n",
       "         'fun': 2,\n",
       "         'kind': 2,\n",
       "         'daily': 2,\n",
       "         'opportunity': 2,\n",
       "         'part': 2,\n",
       "         'fast': 2,\n",
       "         'growing': 2,\n",
       "         'highly': 2,\n",
       "         'inclusion': 2,\n",
       "         'well': 2,\n",
       "         'creative': 2,\n",
       "         'hearted': 2,\n",
       "         'office': 2,\n",
       "         'good': 2,\n",
       "         'people': 2,\n",
       "         'learn': 2,\n",
       "         'role': 2,\n",
       "         'staff': 2,\n",
       "         'description': 2,\n",
       "         'agent': 2,\n",
       "         'organize': 2,\n",
       "         'track': 2,\n",
       "         'status': 2,\n",
       "         'print': 2,\n",
       "         'signs': 2,\n",
       "         'brand': 2,\n",
       "         'events': 2,\n",
       "         'creating': 2,\n",
       "         'community': 2,\n",
       "         'plan': 2,\n",
       "         'employment': 2,\n",
       "         'regard': 2,\n",
       "         'national': 2,\n",
       "         'hour': 2,\n",
       "         'hours': 2,\n",
       "         'aspen': 2,\n",
       "         'best': 2,\n",
       "         'believe': 2,\n",
       "         'providing': 2,\n",
       "         'grow': 2,\n",
       "         'career': 2,\n",
       "         'accepting': 2,\n",
       "         'variety': 2,\n",
       "         'insurance': 2,\n",
       "         'may': 2,\n",
       "         'fit': 2,\n",
       "         'therapist': 2,\n",
       "         'adults': 2,\n",
       "         'growth': 2,\n",
       "         'old': 2,\n",
       "         'town': 2,\n",
       "         'fort': 2,\n",
       "         'collins': 2,\n",
       "         'desire': 2,\n",
       "         'position': 2,\n",
       "         'counseling': 2,\n",
       "         'counselor': 2,\n",
       "         'candidate': 2,\n",
       "         'clinical': 2,\n",
       "         'offer': 2,\n",
       "         'commission': 2,\n",
       "         '5': 2,\n",
       "         'bonus': 2,\n",
       "         'meetings': 2,\n",
       "         '30': 2,\n",
       "         'ehr': 2,\n",
       "         'duties': 2,\n",
       "         'plans': 2,\n",
       "         'based': 2,\n",
       "         'additional': 2,\n",
       "         'needed': 2,\n",
       "         'appropriate': 2,\n",
       "         'interventions': 2,\n",
       "         'patient': 2,\n",
       "         'maintaining': 2,\n",
       "         'assigned': 2,\n",
       "         'send': 2,\n",
       "         'com': 2,\n",
       "         'restaurant': 2,\n",
       "         'competitive': 2,\n",
       "         'long': 2,\n",
       "         'associate': 2,\n",
       "         'elder': 2,\n",
       "         'legal': 2,\n",
       "         'problem': 2,\n",
       "         'solving': 2,\n",
       "         'lake': 2,\n",
       "         'success': 2,\n",
       "         'wills': 2,\n",
       "         'mechanical': 2,\n",
       "         'descriptiona': 1,\n",
       "         'leading': 1,\n",
       "         'jersey': 1,\n",
       "         'administrative': 1,\n",
       "         'coordinator': 1,\n",
       "         'closely': 1,\n",
       "         'ambitious': 1,\n",
       "         'members': 1,\n",
       "         'sales': 1,\n",
       "         'dynamic': 1,\n",
       "         'executive': 1,\n",
       "         'basis': 1,\n",
       "         'respected': 1,\n",
       "         'brokerage': 1,\n",
       "         'reputation': 1,\n",
       "         'exceptional': 1,\n",
       "         'extraordinary': 1,\n",
       "         'culture': 1,\n",
       "         'cooperation': 1,\n",
       "         'must': 1,\n",
       "         'organized': 1,\n",
       "         'proactive': 1,\n",
       "         'positive': 1,\n",
       "         'importantly': 1,\n",
       "         'responsible': 1,\n",
       "         'respectful': 1,\n",
       "         'cool': 1,\n",
       "         'pressure': 1,\n",
       "         'proficient': 1,\n",
       "         'adobe': 1,\n",
       "         'cloud': 1,\n",
       "         'indesign': 1,\n",
       "         'illustrator': 1,\n",
       "         'photoshop': 1,\n",
       "         'microsoft': 1,\n",
       "         'suite': 1,\n",
       "         'fantastic': 1,\n",
       "         'taste': 1,\n",
       "         'loving': 1,\n",
       "         'loves': 1,\n",
       "         'eager': 1,\n",
       "         'paced': 1,\n",
       "         'directly': 1,\n",
       "         'core': 1,\n",
       "         'large': 1,\n",
       "         'brief': 1,\n",
       "         'overview': 1,\n",
       "         'interests': 1,\n",
       "         'considered': 1,\n",
       "         'evolves': 1,\n",
       "         'assistance': 1,\n",
       "         'tasks': 1,\n",
       "         'prepare': 1,\n",
       "         'materials': 1,\n",
       "         'open': 1,\n",
       "         'houses': 1,\n",
       "         'submit': 1,\n",
       "         'orders': 1,\n",
       "         'printers': 1,\n",
       "         'deadlinesgraphic': 1,\n",
       "         'branding': 1,\n",
       "         'managing': 1,\n",
       "         'strategy': 1,\n",
       "         'messaging': 1,\n",
       "         'website': 1,\n",
       "         'media': 1,\n",
       "         'videos': 1,\n",
       "         'online': 1,\n",
       "         'advertising': 1,\n",
       "         'placement': 1,\n",
       "         'prioritize': 1,\n",
       "         'fulfill': 1,\n",
       "         'including': 1,\n",
       "         'postcards': 1,\n",
       "         'email': 1,\n",
       "         'property': 1,\n",
       "         'brochures': 1,\n",
       "         'using': 1,\n",
       "         'pre': 1,\n",
       "         'existing': 1,\n",
       "         'templates': 1,\n",
       "         'custom': 1,\n",
       "         'designs': 1,\n",
       "         'maintain': 1,\n",
       "         'assets': 1,\n",
       "         'generic': 1,\n",
       "         'filesevents': 1,\n",
       "         'execute': 1,\n",
       "         'promotions': 1,\n",
       "         'manage': 1,\n",
       "         'contacts': 1,\n",
       "         'vendors': 1,\n",
       "         'event': 1,\n",
       "         'sponsorshipsour': 1,\n",
       "         'company': 1,\n",
       "         'diverse': 1,\n",
       "         'proud': 1,\n",
       "         'equal': 1,\n",
       "         'employer': 1,\n",
       "         'qualified': 1,\n",
       "         'applicants': 1,\n",
       "         'consideration': 1,\n",
       "         'without': 1,\n",
       "         'race': 1,\n",
       "         'color': 1,\n",
       "         'religion': 1,\n",
       "         'identity': 1,\n",
       "         'expression': 1,\n",
       "         'sexual': 1,\n",
       "         'orientation': 1,\n",
       "         'origin': 1,\n",
       "         'genetics': 1,\n",
       "         'disability': 1,\n",
       "         'age': 1,\n",
       "         'veteran': 1,\n",
       "         'type': 1,\n",
       "         'pay': 1,\n",
       "         '18': 1,\n",
       "         '20': 1,\n",
       "         'expected': 1,\n",
       "         '35': 1,\n",
       "         '45': 1,\n",
       "         'per': 1,\n",
       "         'week': 1,\n",
       "         'benefits': 1,\n",
       "         'offschedule': 1,\n",
       "         '8': 1,\n",
       "         'shiftmonday': 1,\n",
       "         'fridayexperience': 1,\n",
       "         '1': 1,\n",
       "         'year': 1,\n",
       "         '2': 1,\n",
       "         'location': 1,\n",
       "         'serving': 1,\n",
       "         'practices': 1,\n",
       "         'help': 1,\n",
       "         'change': 1,\n",
       "         'improvements': 1,\n",
       "         'better': 1,\n",
       "         'secure': 1,\n",
       "         'supportive': 1,\n",
       "         'clinician': 1,\n",
       "         'foster': 1,\n",
       "         'longevity': 1,\n",
       "         'mission': 1,\n",
       "         'statement': 1,\n",
       "         'thank': 1,\n",
       "         'taking': 1,\n",
       "         'explore': 1,\n",
       "         'us': 1,\n",
       "         'excited': 1,\n",
       "         'group': 1,\n",
       "         'towards': 1,\n",
       "         'licensure': 1,\n",
       "         'ability': 1,\n",
       "         'serve': 1,\n",
       "         'populations': 1,\n",
       "         'panels': 1,\n",
       "         'supervisors': 1,\n",
       "         'trained': 1,\n",
       "         'emdr': 1,\n",
       "         'utilize': 1,\n",
       "         'parts': 1,\n",
       "         'perspective': 1,\n",
       "         'trauma': 1,\n",
       "         'lens': 1,\n",
       "         'actively': 1,\n",
       "         'hire': 1,\n",
       "         'area': 1,\n",
       "         'passionate': 1,\n",
       "         'excellence': 1,\n",
       "         'field': 1,\n",
       "         'located': 1,\n",
       "         'square': 1,\n",
       "         'value': 1,\n",
       "         'strengthened': 1,\n",
       "         'diversity': 1,\n",
       "         'warm': 1,\n",
       "         'welcoming': 1,\n",
       "         'place': 1,\n",
       "         'racial': 1,\n",
       "         'ethnic': 1,\n",
       "         'equality': 1,\n",
       "         'equity': 1,\n",
       "         'requirement': 1,\n",
       "         'possibilities': 1,\n",
       "         'graduate': 1,\n",
       "         'level': 1,\n",
       "         'psychological': 1,\n",
       "         'related': 1,\n",
       "         'degreemasters': 1,\n",
       "         'msw': 1,\n",
       "         'lsw': 1,\n",
       "         'licensed': 1,\n",
       "         'lpcc': 1,\n",
       "         'worker': 1,\n",
       "         'lcsw': 1,\n",
       "         'lpc': 1,\n",
       "         'marriage': 1,\n",
       "         'family': 1,\n",
       "         'lmft': 1,\n",
       "         'relating': 1,\n",
       "         'wanting': 1,\n",
       "         'deliver': 1,\n",
       "         'high': 1,\n",
       "         'healthcareseeking': 1,\n",
       "         'healthy': 1,\n",
       "         'environmentwhat': 1,\n",
       "         'flexible': 1,\n",
       "         'schedulew2': 1,\n",
       "         'basedbuilding': 1,\n",
       "         'workjump': 1,\n",
       "         'monthly': 1,\n",
       "         'stipend': 1,\n",
       "         'timeweekly': 1,\n",
       "         'providedpaid': 1,\n",
       "         'weekly': 1,\n",
       "         'hrtwo': 1,\n",
       "         'month': 1,\n",
       "         'hrtelemedicine': 1,\n",
       "         'flexibilitysupportive': 1,\n",
       "         'direct': 1,\n",
       "         'access': 1,\n",
       "         'two': 1,\n",
       "         'supervisorsadministrative': 1,\n",
       "         'supportapproved': 1,\n",
       "         'development': 1,\n",
       "         'training': 1,\n",
       "         'providedfully': 1,\n",
       "         'automated': 1,\n",
       "         'technology': 1,\n",
       "         'supportstrong': 1,\n",
       "         'balancejob': 1,\n",
       "         'conducting': 1,\n",
       "         'intake': 1,\n",
       "         'assessmentsdeveloping': 1,\n",
       "         'implementing': 1,\n",
       "         'assessment': 1,\n",
       "         'coordinating': 1,\n",
       "         'revising': 1,\n",
       "         'necessaryconducting': 1,\n",
       "         'individual': 1,\n",
       "         'sessions': 1,\n",
       "         'patientapplying': 1,\n",
       "         'psychotherapeutic': 1,\n",
       "         'techniques': 1,\n",
       "         'delivery': 1,\n",
       "         'individuals': 1,\n",
       "         'purpose': 1,\n",
       "         'treating': 1,\n",
       "         'emotional': 1,\n",
       "         'behavioral': 1,\n",
       "         'disorders': 1,\n",
       "         'diagnosed': 1,\n",
       "         'assessmentparticipating': 1,\n",
       "         'order': 1,\n",
       "         'cases': 1,\n",
       "         'presenting': 1,\n",
       "         'information': 1,\n",
       "         'recommending': 1,\n",
       "         'effective': 1,\n",
       "         'building': 1,\n",
       "         'active': 1,\n",
       "         'caseload': 1,\n",
       "         'clientscompleting': 1,\n",
       "         'timely': 1,\n",
       "         'progress': 1,\n",
       "         'notes': 1,\n",
       "         'updates': 1,\n",
       "         'documentation': 1,\n",
       "         'accordance': 1,\n",
       "         'regulatory': 1,\n",
       "         'accrediting': 1,\n",
       "         'standardsproviding': 1,\n",
       "         'crisis': 1,\n",
       "         'intervention': 1,\n",
       "         'patients': 1,\n",
       "         'acute': 1,\n",
       "         'distress': 1,\n",
       "         'referring': 1,\n",
       "         'neededperforming': 1,\n",
       "         'case': 1,\n",
       "         'management': 1,\n",
       "         'discharge': 1,\n",
       "         'neededexcellent': 1,\n",
       "         'interpersonal': 1,\n",
       "         'skillscompassionate': 1,\n",
       "         'empathetic': 1,\n",
       "         'approach': 1,\n",
       "         'careplease': 1,\n",
       "         'resume': 1,\n",
       "         'cover': 1,\n",
       "         'letter': 1,\n",
       "         'info': 1,\n",
       "         'aspentherapyandwellness': 1,\n",
       "         'llcaspen': 1,\n",
       "         'provider': 1,\n",
       "         'focusing': 1,\n",
       "         'outpatient': 1,\n",
       "         'setting': 1,\n",
       "         'issues': 1,\n",
       "         'throughout': 1,\n",
       "         'state': 1,\n",
       "         'colorado': 1,\n",
       "         'via': 1,\n",
       "         'telehealth': 1,\n",
       "         'note': 1,\n",
       "         'exhaustive': 1,\n",
       "         'exemplar': 1,\n",
       "         'applications': 1,\n",
       "         'assistant': 1,\n",
       "         'manager': 1,\n",
       "         'wages': 1,\n",
       "         'healthcare': 1,\n",
       "         'complimentary': 1,\n",
       "         'dining': 1,\n",
       "         'privileges': 1,\n",
       "         'opportunities': 1,\n",
       "         'serious': 1,\n",
       "         'standing': 1,\n",
       "         'neighborhood': 1,\n",
       "         '41': 1,\n",
       "         'term': 1,\n",
       "         'class': 1,\n",
       "         'organization': 1,\n",
       "         'apply': 1,\n",
       "         'resumes': 1,\n",
       "         'pardom': 1,\n",
       "         'nationalexemplar': 1,\n",
       "         'senior': 1,\n",
       "         'estates': 1,\n",
       "         'client': 1,\n",
       "         'counsel': 1,\n",
       "         'innovative': 1,\n",
       "         'solutions': 1,\n",
       "         'personalized': 1,\n",
       "         'founded': 1,\n",
       "         '2000': 1,\n",
       "         'offers': 1,\n",
       "         'expertise': 1,\n",
       "         '115': 1,\n",
       "         'attorneys': 1,\n",
       "         'accumulated': 1,\n",
       "         'decades': 1,\n",
       "         'prominent': 1,\n",
       "         'successful': 1,\n",
       "         'self': 1,\n",
       "         'motivated': 1,\n",
       "         'detail': 1,\n",
       "         'oriented': 1,\n",
       "         'member': 1,\n",
       "         'strong': 1,\n",
       "         'litigation': 1,\n",
       "         'responsibilities': 1,\n",
       "         'include': 1,\n",
       "         'asset': 1,\n",
       "         'protection': 1,\n",
       "         'formulating': 1,\n",
       "         'overseeing': 1,\n",
       "         'execution': 1,\n",
       "         'medicaid': 1,\n",
       "         'drafting': 1,\n",
       "         'revocable': 1,\n",
       "         'irrevocable': 1,\n",
       "         'powers': 1,\n",
       "         'care': 1,\n",
       "         'proxies': 1,\n",
       "         'living': 1,\n",
       "         'trust': 1,\n",
       "         'court': 1,\n",
       "         'appearances': 1,\n",
       "         'proceedings': 1,\n",
       "         'supervising': 1,\n",
       "         'paralegals': 1,\n",
       "         'qualifications': 1,\n",
       "         'juris': 1,\n",
       "         'doctor': 1,\n",
       "         'degree': 1,\n",
       "         'j': 1,\n",
       "         'accredited': 1,\n",
       "         'schoollicensed': 1,\n",
       "         'york10': 1,\n",
       "         '15': 1,\n",
       "         'experienceexperience': 1,\n",
       "         'various': 1,\n",
       "         'advance': 1,\n",
       "         'directives': 1,\n",
       "         'willsstrong': 1,\n",
       "         'analytical': 1,\n",
       "         'skillsability': 1,\n",
       "         'build': 1,\n",
       "         'rapport': 1,\n",
       "         'clientsexcellent': 1,\n",
       "         'written': 1,\n",
       "         'verbal': 1,\n",
       "         'salary': 1,\n",
       "         'commensurate': 1,\n",
       "         'experiencesalary': 1,\n",
       "         '140': 1,\n",
       "         '000': 1,\n",
       "         '175': 1,\n",
       "         '000benefits': 1,\n",
       "         '401k': 1,\n",
       "         'medical': 1,\n",
       "         'dental': 1,\n",
       "         'pto': 1,\n",
       "         'ny': 1,\n",
       "         'hvac': 1,\n",
       "         'tech': 1,\n",
       "         'commerical': 1,\n",
       "         'industrial': 1,\n",
       "         'equipment': 1,\n",
       "         'minimum': 1,\n",
       "         'yrs': 1,\n",
       "         'license': 1,\n",
       "         'winger': 1,\n",
       "         'line': 1,\n",
       "         'union': 1,\n",
       "         'business': 1,\n",
       "         'piping': 1,\n",
       "         'plumbing': 1,\n",
       "         'sheet': 1,\n",
       "         'metal': 1})"
      ]
     },
     "execution_count": 241,
     "metadata": {},
     "output_type": "execute_result"
    }
   ],
   "source": [
    "word2count"
   ]
  }
 ],
 "metadata": {
  "kernelspec": {
   "display_name": "my-virtualenv-name",
   "language": "python",
   "name": "my-virtualenv-name"
  },
  "language_info": {
   "codemirror_mode": {
    "name": "ipython",
    "version": 3
   },
   "file_extension": ".py",
   "mimetype": "text/x-python",
   "name": "python",
   "nbconvert_exporter": "python",
   "pygments_lexer": "ipython3",
   "version": "3.12.3"
  }
 },
 "nbformat": 4,
 "nbformat_minor": 5
}
