{
 "cells": [
  {
   "cell_type": "code",
   "execution_count": 8,
   "id": "69ce67be-713f-4886-b714-733ae894944b",
   "metadata": {},
   "outputs": [
    {
     "name": "stdout",
     "output_type": "stream",
     "text": [
      "   a\n",
      "0  b\n",
      "1  b\n"
     ]
    }
   ],
   "source": [
    "import pandas as pd\n",
    "\n",
    "df = pd.DataFrame({'text': ['hello world', 'pandas is awesome']})\n",
    "\n",
    "# Split the text into words\n",
    "df['words'] = df['text'].apply(lambda x: {\"a\":\"b\"})\n",
    "\n",
    "# Explode the words into separate rows\n",
    "df = pd.json_normalize(df['words'])\n",
    "\n",
    "print(df)"
   ]
  }
 ],
 "metadata": {
  "kernelspec": {
   "display_name": "Python 3 (ipykernel)",
   "language": "python",
   "name": "python3"
  },
  "language_info": {
   "codemirror_mode": {
    "name": "ipython",
    "version": 3
   },
   "file_extension": ".py",
   "mimetype": "text/x-python",
   "name": "python",
   "nbconvert_exporter": "python",
   "pygments_lexer": "ipython3",
   "version": "3.12.3"
  }
 },
 "nbformat": 4,
 "nbformat_minor": 5
}
