{
 "cells": [
  {
   "cell_type": "code",
   "execution_count": 56,
   "id": "dad0d7c5-9dd3-490a-aeba-726fa5035c32",
   "metadata": {},
   "outputs": [],
   "source": [
    "import pandas as pd\n",
    "from sklearn.model_selection import train_test_split\n",
    "from sklearn.ensemble import GradientBoostingRegressor\n",
    "from sklearn.metrics import root_mean_squared_error, mean_absolute_error, r2_score\n",
    "import matplotlib.pyplot as plt\n",
    "import pickle\n",
    "import joblib\n",
    "import time"
   ]
  },
  {
   "cell_type": "markdown",
   "id": "fdbf5418-dc9b-4d07-8443-0bcad2265d64",
   "metadata": {},
   "source": [
    "Labels"
   ]
  },
  {
   "cell_type": "code",
   "execution_count": 36,
   "id": "364cd892-7296-4a4c-9086-6a6eb58ef71f",
   "metadata": {},
   "outputs": [],
   "source": [
    "labels_df = pd.read_csv(\"linkedin_salary_targets.csv\")"
   ]
  },
  {
   "cell_type": "code",
   "execution_count": 115,
   "id": "79942a20-b096-40a5-bebd-35229acd3086",
   "metadata": {},
   "outputs": [],
   "source": [
    "# for line in [f'{f[:-4]}_df = pd.read_csv(\"linkedin/{f}\")' for f in os.listdir(\"linkedin\") if f.endswith(\"csv\")]:\n",
    "#     print(line)\n",
    "\n",
    "# for line in [f'\"{f[:-4]}\": {f[:-4]}_df' for f in os.listdir(\"linkedin\") if f.endswith(\"csv\")]:\n",
    "#     print(line)"
   ]
  },
  {
   "cell_type": "markdown",
   "id": "ee307583-ee8f-4ce3-a21f-3ef575576c07",
   "metadata": {},
   "source": [
    "Features"
   ]
  },
  {
   "cell_type": "code",
   "execution_count": 110,
   "id": "1f9a6287-2a86-40df-baac-efc1a25449f9",
   "metadata": {},
   "outputs": [],
   "source": [
    "bigram_df = pd.read_csv(\"linkedin/bigram.csv\")\n",
    "t5_title_embedding_df = pd.read_csv(\"linkedin/t5_title_embedding.csv\")\n",
    "paraphrase_title_embedding_df = pd.read_csv(\"linkedin/paraphrase_title_embedding.csv\")\n",
    "t5_total_embedding_df = pd.read_csv(\"linkedin/t5_total_embedding.csv\")\n",
    "smoothed_unigram_df = pd.read_csv(\"linkedin/smoothed_unigram.csv\")\n",
    "paraphrase_total_embedding_df = pd.read_csv(\"linkedin/paraphrase_total_embedding.csv\")\n",
    "unigram_df = pd.read_csv(\"linkedin/unigram.csv\")"
   ]
  },
  {
   "cell_type": "code",
   "execution_count": 114,
   "id": "86a91d9f-c4bf-4841-b710-78c7363fb3ef",
   "metadata": {},
   "outputs": [],
   "source": [
    "models = {\n",
    "    \"bigram\": bigram_df,\n",
    "    \"t5_title_embedding\": t5_title_embedding_df,\n",
    "    \"paraphrase_title_embedding\": paraphrase_title_embedding_df,\n",
    "    \"t5_total_embedding\": t5_total_embedding_df,\n",
    "    \"smoothed_unigram\": smoothed_unigram_df,\n",
    "    \"paraphrase_total_embedding\": paraphrase_total_embedding_df,\n",
    "    \"unigram\": unigram_df\n",
    "}"
   ]
  },
  {
   "cell_type": "code",
   "execution_count": 144,
   "id": "e428dd9d-c1cd-46c4-9bbb-cea861a823ea",
   "metadata": {},
   "outputs": [],
   "source": [
    "def train_and_score_gbt(X, y, model_name):\n",
    "    # 1. Split Data\n",
    "    # X_train, X_test, y_train, y_test = train_test_split(X,y)\n",
    "\n",
    "    # 2. Train GBT Model\n",
    "    # clf = GradientBoostingRegressor(n_estimators=100, learning_rate=1.0,\n",
    "    #     max_depth=5, random_state=0)\n",
    "    # clf.fit(X_train,y_train)\n",
    "\n",
    "    # Temp\n",
    "    clf = joblib.load(f\"results/{model_name}/model_object.pkl\")\n",
    "\n",
    "    # 3. Get Predictions and Residuals\n",
    "    y_pred = clf.predict(X_test)\n",
    "    residuals = y_test - y_pred\n",
    "\n",
    "    # 4. Score\n",
    "    scores = {\n",
    "        'model_name': model_name,\n",
    "        'r2': r2_score(y_pred, y_test),\n",
    "        'mea': mean_absolute_error(y_pred, y_test),\n",
    "        'rmse': root_mean_squared_error(y_pred, y_test)\n",
    "    }\n",
    "\n",
    "    # 5. Plot\n",
    "    plt.scatter(y_pred, residuals)\n",
    "    plt.xlabel('Predicted Values')\n",
    "    plt.ylabel('Residuals')\n",
    "    plt.title(f'Residual Plot: {model_name}')\n",
    "    plt.axhline(y=0, color='r', linestyle='--')\n",
    "    os.mkdir(f\"results/{model_name}\")\n",
    "    plt.savefig(f\"results/{model_name}/residuals.jpg\")\n",
    "    plt.clf()\n",
    "    \n",
    "    # 6. Save Model and Scores\n",
    "    # joblib.dump(clf, f\"results/{model_name}/model_object.pkl\")\n",
    "    # joblib.dump(clf, f\"results/{model_name}/model_scores.pkl\")\n",
    "\n",
    "    # return scores"
   ]
  },
  {
   "cell_type": "code",
   "execution_count": 146,
   "id": "fe017efc-e8eb-4c1f-af9e-1885df16e951",
   "metadata": {},
   "outputs": [
    {
     "name": "stderr",
     "output_type": "stream",
     "text": [
      "/var/folders/g9/m0c3tdxd4l7f9js2h3wz_fp40000gn/T/ipykernel_14848/3144748124.py:11: FutureWarning: The behavior of DataFrame concatenation with empty or all-NA entries is deprecated. In a future version, this will no longer exclude empty or all-NA columns when determining the result dtypes. To retain the old behavior, exclude the relevant entries before the concat operation.\n",
      "  scores_df = pd.concat([scores_df, pd.DataFrame([scores])], ignore_index=True)\n"
     ]
    },
    {
     "name": "stdout",
     "output_type": "stream",
     "text": [
      "Finished bigram in 85.46748900413513 seconds.\n",
      "  model_name        r2            mea          rmse\n",
      "0     bigram -0.974418  266826.203577  5.270340e+06\n",
      "Finished t5_title_embedding in 750.6062619686127 seconds.\n",
      "           model_name        r2            mea          rmse\n",
      "0              bigram -0.974418  266826.203577  5.270340e+06\n",
      "1  t5_title_embedding -0.217180  160027.392151  3.311473e+06\n",
      "Finished paraphrase_title_embedding in 351.22124791145325 seconds.\n",
      "                   model_name        r2            mea          rmse\n",
      "0                      bigram -0.974418  266826.203577  5.270340e+06\n",
      "1          t5_title_embedding -0.217180  160027.392151  3.311473e+06\n",
      "2  paraphrase_title_embedding -1.259899  283426.491070  7.207586e+06\n",
      "Finished t5_total_embedding in 858.6297018527985 seconds.\n",
      "                   model_name        r2            mea          rmse\n",
      "0                      bigram -0.974418  266826.203577  5.270340e+06\n",
      "1          t5_title_embedding -0.217180  160027.392151  3.311473e+06\n",
      "2  paraphrase_title_embedding -1.259899  283426.491070  7.207586e+06\n",
      "3          t5_total_embedding -0.209240  530617.640222  1.241473e+07\n",
      "Finished smoothed_unigram in 88.97456407546997 seconds.\n",
      "                   model_name        r2            mea          rmse\n",
      "0                      bigram -0.974418  266826.203577  5.270340e+06\n",
      "1          t5_title_embedding -0.217180  160027.392151  3.311473e+06\n",
      "2  paraphrase_title_embedding -1.259899  283426.491070  7.207586e+06\n",
      "3          t5_total_embedding -0.209240  530617.640222  1.241473e+07\n",
      "4            smoothed_unigram -0.508736  397524.543334  9.719563e+06\n",
      "Finished paraphrase_total_embedding in 418.6039390563965 seconds.\n",
      "                   model_name        r2            mea          rmse\n",
      "0                      bigram -0.974418  266826.203577  5.270340e+06\n",
      "1          t5_title_embedding -0.217180  160027.392151  3.311473e+06\n",
      "2  paraphrase_title_embedding -1.259899  283426.491070  7.207586e+06\n",
      "3          t5_total_embedding -0.209240  530617.640222  1.241473e+07\n",
      "4            smoothed_unigram -0.508736  397524.543334  9.719563e+06\n",
      "Finished unigram in 90.49757504463196 seconds.\n",
      "                   model_name        r2            mea          rmse\n",
      "0                      bigram -0.974418  266826.203577  5.270340e+06\n",
      "1          t5_title_embedding -0.217180  160027.392151  3.311473e+06\n",
      "2  paraphrase_title_embedding -1.259899  283426.491070  7.207586e+06\n",
      "3          t5_total_embedding -0.209240  530617.640222  1.241473e+07\n",
      "4            smoothed_unigram -0.508736  397524.543334  9.719563e+06\n"
     ]
    },
    {
     "data": {
      "image/png": "[encoded data removed]",
      "text/plain": [
       "<Figure size 640x480 with 1 Axes>"
      ]
     },
     "metadata": {},
     "output_type": "display_data"
    }
   ],
   "source": [
    "scores_df = pd.DataFrame(columns=['model_name','r2','mea','rmse'])\n",
    "\n",
    "for (model_name, features_df) in models.items():\n",
    "    t0 = time.time()\n",
    "\n",
    "    scores = train_and_score_gbt(\n",
    "        X=features_df.to_numpy(), \n",
    "        y=labels_df.max_salary.to_numpy(),\n",
    "        model_name=model_name\n",
    "    )\n",
    "    scores_df = pd.concat([scores_df, pd.DataFrame([scores])], ignore_index=True)\n",
    "    t1 = time.time()\n",
    "    total = t1-t0\n",
    "    print(f\"Finished {model_name} in {total} seconds.\")\n",
    "    print(scores_df.head())"
   ]
  },
  {
   "cell_type": "code",
   "execution_count": 149,
   "id": "71097710-65e6-482f-93f9-68e9434624b4",
   "metadata": {},
   "outputs": [
    {
     "data": {
      "text/plain": [
       "7"
      ]
     },
     "execution_count": 149,
     "metadata": {},
     "output_type": "execute_result"
    }
   ],
   "source": [
    "len(models.keys())"
   ]
  },
  {
   "cell_type": "code",
   "execution_count": 150,
   "id": "77a67422-103c-42dd-8453-b129a1ca7131",
   "metadata": {},
   "outputs": [
    {
     "data": {
      "text/html": [
       "<div>\n",
       "<style scoped>\n",
       "    .dataframe tbody tr th:only-of-type {\n",
       "        vertical-align: middle;\n",
       "    }\n",
       "\n",
       "    .dataframe tbody tr th {\n",
       "        vertical-align: top;\n",
       "    }\n",
       "\n",
       "    .dataframe thead th {\n",
       "        text-align: right;\n",
       "    }\n",
       "</style>\n",
       "<table border=\"1\" class=\"dataframe\">\n",
       "  <thead>\n",
       "    <tr style=\"text-align: right;\">\n",
       "      <th></th>\n",
       "      <th>model_name</th>\n",
       "      <th>r2</th>\n",
       "      <th>mea</th>\n",
       "      <th>rmse</th>\n",
       "    </tr>\n",
       "  </thead>\n",
       "  <tbody>\n",
       "    <tr>\n",
       "      <th>0</th>\n",
       "      <td>bigram</td>\n",
       "      <td>-0.974418</td>\n",
       "      <td>266826.203577</td>\n",
       "      <td>5.270340e+06</td>\n",
       "    </tr>\n",
       "    <tr>\n",
       "      <th>1</th>\n",
       "      <td>t5_title_embedding</td>\n",
       "      <td>-0.217180</td>\n",
       "      <td>160027.392151</td>\n",
       "      <td>3.311473e+06</td>\n",
       "    </tr>\n",
       "    <tr>\n",
       "      <th>2</th>\n",
       "      <td>paraphrase_title_embedding</td>\n",
       "      <td>-1.259899</td>\n",
       "      <td>283426.491070</td>\n",
       "      <td>7.207586e+06</td>\n",
       "    </tr>\n",
       "    <tr>\n",
       "      <th>3</th>\n",
       "      <td>t5_total_embedding</td>\n",
       "      <td>-0.209240</td>\n",
       "      <td>530617.640222</td>\n",
       "      <td>1.241473e+07</td>\n",
       "    </tr>\n",
       "    <tr>\n",
       "      <th>4</th>\n",
       "      <td>smoothed_unigram</td>\n",
       "      <td>-0.508736</td>\n",
       "      <td>397524.543334</td>\n",
       "      <td>9.719563e+06</td>\n",
       "    </tr>\n",
       "    <tr>\n",
       "      <th>5</th>\n",
       "      <td>paraphrase_total_embedding</td>\n",
       "      <td>-2.875036</td>\n",
       "      <td>355010.327706</td>\n",
       "      <td>9.126608e+06</td>\n",
       "    </tr>\n",
       "    <tr>\n",
       "      <th>6</th>\n",
       "      <td>unigram</td>\n",
       "      <td>-0.853060</td>\n",
       "      <td>351909.806777</td>\n",
       "      <td>7.830286e+06</td>\n",
       "    </tr>\n",
       "  </tbody>\n",
       "</table>\n",
       "</div>"
      ],
      "text/plain": [
       "                   model_name        r2            mea          rmse\n",
       "0                      bigram -0.974418  266826.203577  5.270340e+06\n",
       "1          t5_title_embedding -0.217180  160027.392151  3.311473e+06\n",
       "2  paraphrase_title_embedding -1.259899  283426.491070  7.207586e+06\n",
       "3          t5_total_embedding -0.209240  530617.640222  1.241473e+07\n",
       "4            smoothed_unigram -0.508736  397524.543334  9.719563e+06\n",
       "5  paraphrase_total_embedding -2.875036  355010.327706  9.126608e+06\n",
       "6                     unigram -0.853060  351909.806777  7.830286e+06"
      ]
     },
     "execution_count": 150,
     "metadata": {},
     "output_type": "execute_result"
    }
   ],
   "source": [
    "scores_df"
   ]
  }
 ],
 "metadata": {
  "kernelspec": {
   "display_name": "cs2565-env",
   "language": "python",
   "name": "cs2565-env"
  },
  "language_info": {
   "codemirror_mode": {
    "name": "ipython",
    "version": 3
   },
   "file_extension": ".py",
   "mimetype": "text/x-python",
   "name": "python",
   "nbconvert_exporter": "python",
   "pygments_lexer": "ipython3",
   "version": "3.12.3"
  }
 },
 "nbformat": 4,
 "nbformat_minor": 5
}
