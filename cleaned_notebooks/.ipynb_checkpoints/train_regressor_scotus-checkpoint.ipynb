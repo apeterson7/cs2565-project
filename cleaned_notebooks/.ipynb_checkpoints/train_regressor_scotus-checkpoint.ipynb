{
 "cells": [
  {
   "cell_type": "code",
   "execution_count": 3,
   "id": "7f034a5b-52e7-4c2c-a5d1-abec4cd661be",
   "metadata": {},
   "outputs": [],
   "source": [
    "import pandas as pd\n",
    "from sklearn.model_selection import train_test_split\n",
    "from sklearn.ensemble import GradientBoostingRegressor\n",
    "from sklearn.metrics import root_mean_squared_error, mean_absolute_error, r2_score\n",
    "import matplotlib.pyplot as plt\n",
    "import pickle\n",
    "import joblib\n",
    "import time\n",
    "import os"
   ]
  },
  {
   "cell_type": "code",
   "execution_count": 11,
   "id": "39bfdd12-9342-4b50-9bbc-f2e56e578a5b",
   "metadata": {},
   "outputs": [
    {
     "name": "stdout",
     "output_type": "stream",
     "text": [
      "bigram_df = pd.read_csv(\"scotus/bigram.csv\")\n",
      "t5_scotus_embeddings_df = pd.read_csv(\"scotus/t5_scotus_embeddings.csv\")\n",
      "paraphrase_scotus_embeddings_df = pd.read_csv(\"scotus/paraphrase_scotus_embeddings.csv\")\n",
      "smoothed_unigram_df = pd.read_csv(\"scotus/smoothed_unigram.csv\")\n",
      "unigram_df = pd.read_csv(\"scotus/unigram.csv\")\n",
      "tfidf_df = pd.read_csv(\"scotus/tfidf.csv\")\n",
      "{\n",
      "\t\"bigram\": bigram_df,\n",
      "\t\"t5_scotus_embeddings\": t5_scotus_embeddings_df,\n",
      "\t\"paraphrase_scotus_embeddings\": paraphrase_scotus_embeddings_df,\n",
      "\t\"smoothed_unigram\": smoothed_unigram_df,\n",
      "\t\"unigram\": unigram_df,\n",
      "\t\"tfidf\": tfidf_df,\n",
      "}\n"
     ]
    }
   ],
   "source": [
    "for line in [f'{f[:-4]}_df = pd.read_csv(\"scotus/{f}\")' for f in os.listdir(\"scotus\") if f.endswith(\"csv\")]:\n",
    "    print(line)\n",
    "\n",
    "print(\"{\")\n",
    "for line in [f'\\t\"{f[:-4]}\": {f[:-4]}_df,' for f in os.listdir(\"scotus\") if f.endswith(\"csv\")]:\n",
    "    print(line)\n",
    "print(\"}\")"
   ]
  },
  {
   "cell_type": "code",
   "execution_count": 9,
   "id": "1202ae65-7fd9-4910-acbb-7aa8e03cd2bc",
   "metadata": {},
   "outputs": [],
   "source": [
    "bigram_df = pd.read_csv(\"scotus/bigram.csv\")\n",
    "t5_scotus_embeddings_df = pd.read_csv(\"scotus/t5_scotus_embeddings.csv\")\n",
    "paraphrase_scotus_embeddings_df = pd.read_csv(\"scotus/paraphrase_scotus_embeddings.csv\")\n",
    "smoothed_unigram_df = pd.read_csv(\"scotus/smoothed_unigram.csv\")\n",
    "unigram_df = pd.read_csv(\"scotus/unigram.csv\")\n",
    "tfidf_df = pd.read_csv(\"scotus/tfidf.csv\")"
   ]
  },
  {
   "cell_type": "code",
   "execution_count": 12,
   "id": "531c63ed-33e2-4d04-b53f-599331e2e778",
   "metadata": {},
   "outputs": [],
   "source": [
    "models = {\n",
    "\t\"bigram\": bigram_df,\n",
    "\t\"t5_scotus_embeddings\": t5_scotus_embeddings_df,\n",
    "\t\"paraphrase_scotus_embeddings\": paraphrase_scotus_embeddings_df,\n",
    "\t\"smoothed_unigram\": smoothed_unigram_df,\n",
    "\t\"unigram\": unigram_df,\n",
    "\t\"tfidf\": tfidf_df\n",
    "}"
   ]
  },
  {
   "cell_type": "code",
   "execution_count": 13,
   "id": "58ad08b3-cd26-4c4e-a5d5-5d53d4c9a465",
   "metadata": {},
   "outputs": [],
   "source": [
    "def train_and_score_gbt(X, y, model_name, dataset_name=\"scotus\"):\n",
    "    # 1. Split Data\n",
    "    X_train, X_test, y_train, y_test = train_test_split(X,y)\n",
    "\n",
    "    # 2. Train GBT Model\n",
    "    clf = GradientBoostingRegressor(n_estimators=100, learning_rate=1.0,\n",
    "        max_depth=5, random_state=0)\n",
    "    clf.fit(X_train,y_train)\n",
    "\n",
    "    # 3. Get Predictions and Residuals\n",
    "    y_pred = clf.predict(X_test)\n",
    "    residuals = y_test - y_pred\n",
    "\n",
    "    # 4. Score\n",
    "    scores = {\n",
    "        'model_name': model_name,\n",
    "        'r2': r2_score(y_pred, y_test),\n",
    "        'mea': mean_absolute_error(y_pred, y_test),\n",
    "        'rmse': root_mean_squared_error(y_pred, y_test)\n",
    "    }\n",
    "\n",
    "    # 5. Plot\n",
    "    plt.scatter(y_pred, residuals)\n",
    "    plt.xlabel('Predicted Values')\n",
    "    plt.ylabel('Residuals')\n",
    "    plt.title(f'Residual Plot: {model_name}')\n",
    "    plt.axhline(y=0, color='r', linestyle='--')\n",
    "    os.mkdir(f\"results/dataset_name/{model_name}\")\n",
    "    plt.savefig(f\"results/dataset_name/{model_name}/residuals.jpg\")\n",
    "    plt.clf()\n",
    "    \n",
    "    # 6. Save Model and Scores\n",
    "    joblib.dump(clf, f\"results/dataset_name/{model_name}/model_object.pkl\")\n",
    "    joblib.dump(clf, f\"results/dataset_name/{model_name}/model_scores.pkl\")\n",
    "\n",
    "    # return scores"
   ]
  }
 ],
 "metadata": {
  "kernelspec": {
   "display_name": "cs2565-env",
   "language": "python",
   "name": "cs2565-env"
  },
  "language_info": {
   "codemirror_mode": {
    "name": "ipython",
    "version": 3
   },
   "file_extension": ".py",
   "mimetype": "text/x-python",
   "name": "python",
   "nbconvert_exporter": "python",
   "pygments_lexer": "ipython3",
   "version": "3.12.3"
  }
 },
 "nbformat": 4,
 "nbformat_minor": 5
}
